{
 "cells": [
  {
   "cell_type": "markdown",
   "metadata": {},
   "source": [
    "## Packaging"
   ]
  },
  {
   "cell_type": "code",
   "execution_count": 1,
   "metadata": {},
   "outputs": [],
   "source": [
    "import os\n",
    "import shutil\n",
    "import numpy as np\n",
    "import scipy.linalg as la"
   ]
  },
  {
   "cell_type": "code",
   "execution_count": 2,
   "metadata": {},
   "outputs": [],
   "source": [
    "path = \"./fastica\"\n",
    "if os.path.exists(path):\n",
    "    shutil.rmtree(path)\n",
    "os.makedirs(path)"
   ]
  },
  {
   "cell_type": "code",
   "execution_count": 3,
   "metadata": {},
   "outputs": [
    {
     "name": "stdout",
     "output_type": "stream",
     "text": [
      "/Users/Ronnie/Desktop/ICA_in_Finance/fastica\n"
     ]
    }
   ],
   "source": [
    "% cd fastica/"
   ]
  },
  {
   "cell_type": "code",
   "execution_count": 4,
   "metadata": {},
   "outputs": [
    {
     "name": "stdout",
     "output_type": "stream",
     "text": [
      "Writing fastica.py\n"
     ]
    }
   ],
   "source": [
    "%%file fastica.py\n",
    "\n",
    "import numpy as np\n",
    "import scipy.linalg as la\n",
    "\n",
    "# whiten\n",
    "def whiten(X, n_components):\n",
    "    X = X - X.mean(-1)[:, None]\n",
    "    u, d, _ = la.svd(X, full_matrices=False)\n",
    "    V = (u / d).T[:n_components]\n",
    "    X *= np.sqrt(X.shape[1])    \n",
    "    return np.dot(V, X), V\n",
    "\n",
    "# two wise choices of G\n",
    "def _logcosh(x):\n",
    "    # g\n",
    "    gx = np.tanh(x)\n",
    "    # g'\n",
    "    g_x = 1 - gx ** 2\n",
    "    return gx, g_x.mean(-1)\n",
    "\n",
    "def _exp(x):\n",
    "    exp = np.exp(-(x ** 2) / 2)\n",
    "    # g\n",
    "    gx = x * exp\n",
    "    # g'\n",
    "    g_x = (1 - x ** 2) * exp\n",
    "    return gx, g_x.mean(axis=-1)\n",
    "\n",
    "def decorrelation(W):\n",
    "    s, u = la.eigh(np.dot(W, W.T))\n",
    "    return np.dot(np.dot(u * (1. / np.sqrt(s)), u.T), W)\n",
    "\n",
    "# fastICA\n",
    "def fastICA(X, fun='logcosh', n_components=None, maxIter=200, tol=1e-04):\n",
    "    X = X.T\n",
    "    n, m = X.shape\n",
    "    if n_components is None:\n",
    "        n_components = n\n",
    "    X1,V = whiten(X,n_components)\n",
    "    p = float(m)\n",
    "    if fun == 'logcosh':\n",
    "        g = _logcosh\n",
    "    elif fun == 'exp':\n",
    "        g = _exp\n",
    "    \n",
    "    # initialize w with normal distribution\n",
    "    W = np.asarray(np.random.normal(size=(n_components,n_components)))\n",
    "\n",
    "    # calculate w iteratively\n",
    "    for ii in range(maxIter):\n",
    "        gwtx, g_wtx = g(np.dot(W, X1))\n",
    "        W1 = decorrelation(np.dot(gwtx, X1.T) / p - g_wtx[:, None] * W)\n",
    "        lim = max(abs(abs(np.diag(np.dot(W1, W.T))) - 1))\n",
    "        W = W1\n",
    "        if lim < tol:\n",
    "            break\n",
    "    S = np.dot(np.dot(W, V), X).T\n",
    "    return V,W,S\n",
    "\n",
    "if __name__ == '__main__':\n",
    "    fastICA()"
   ]
  },
  {
   "cell_type": "code",
   "execution_count": 5,
   "metadata": {},
   "outputs": [
    {
     "name": "stdout",
     "output_type": "stream",
     "text": [
      "Writing setup.py\n"
     ]
    }
   ],
   "source": [
    "%%file setup.py\n",
    "\n",
    "from setuptools import setup\n",
    "import setuptools\n",
    "\n",
    "setup(name = \"fastica\",\n",
    "      version = \"2.0\",\n",
    "      author='Zhechang Yang and Xi Chen',\n",
    "      author_email='zhechang.yang@duke.edu',\n",
    "      url='http://people.duke.edu/~ccc14/sta-663-2018/',\n",
    "      py_modules = ['fastica'],\n",
    "      packages=setuptools.find_packages(),\n",
    "      scripts = ['fastica.py'],\n",
    "      python_requires='>=3',\n",
    "      )"
   ]
  },
  {
   "cell_type": "code",
   "execution_count": 6,
   "metadata": {},
   "outputs": [
    {
     "name": "stdout",
     "output_type": "stream",
     "text": [
      "Writing README.md\n"
     ]
    }
   ],
   "source": [
    "%%file README.md\n",
    "\n",
    "fastica algorithm"
   ]
  },
  {
   "cell_type": "code",
   "execution_count": 7,
   "metadata": {},
   "outputs": [
    {
     "name": "stdout",
     "output_type": "stream",
     "text": [
      "Writing __init__.py\n"
     ]
    }
   ],
   "source": [
    "%%file __init__.py\n",
    " \n",
    "__author__ = 'zhechang'  \n",
    "__all__=[\"fastica\"]"
   ]
  },
  {
   "cell_type": "code",
   "execution_count": 8,
   "metadata": {},
   "outputs": [
    {
     "name": "stdout",
     "output_type": "stream",
     "text": [
      "running install\n",
      "running bdist_egg\n",
      "running egg_info\n",
      "creating fastica.egg-info\n",
      "writing fastica.egg-info/PKG-INFO\n",
      "writing dependency_links to fastica.egg-info/dependency_links.txt\n",
      "writing top-level names to fastica.egg-info/top_level.txt\n",
      "writing manifest file 'fastica.egg-info/SOURCES.txt'\n",
      "reading manifest file 'fastica.egg-info/SOURCES.txt'\n",
      "writing manifest file 'fastica.egg-info/SOURCES.txt'\n",
      "installing library code to build/bdist.macosx-10.7-x86_64/egg\n",
      "running install_lib\n",
      "running build_py\n",
      "creating build\n",
      "creating build/lib\n",
      "copying fastica.py -> build/lib\n",
      "creating build/bdist.macosx-10.7-x86_64\n",
      "creating build/bdist.macosx-10.7-x86_64/egg\n",
      "copying build/lib/fastica.py -> build/bdist.macosx-10.7-x86_64/egg\n",
      "byte-compiling build/bdist.macosx-10.7-x86_64/egg/fastica.py to fastica.cpython-36.pyc\n",
      "creating build/bdist.macosx-10.7-x86_64/egg/EGG-INFO\n",
      "installing scripts to build/bdist.macosx-10.7-x86_64/egg/EGG-INFO/scripts\n",
      "running install_scripts\n",
      "running build_scripts\n",
      "creating build/scripts-3.6\n",
      "copying fastica.py -> build/scripts-3.6\n",
      "changing mode of build/scripts-3.6/fastica.py from 644 to 755\n",
      "creating build/bdist.macosx-10.7-x86_64/egg/EGG-INFO/scripts\n",
      "copying build/scripts-3.6/fastica.py -> build/bdist.macosx-10.7-x86_64/egg/EGG-INFO/scripts\n",
      "changing mode of build/bdist.macosx-10.7-x86_64/egg/EGG-INFO/scripts/fastica.py to 755\n",
      "copying fastica.egg-info/PKG-INFO -> build/bdist.macosx-10.7-x86_64/egg/EGG-INFO\n",
      "copying fastica.egg-info/SOURCES.txt -> build/bdist.macosx-10.7-x86_64/egg/EGG-INFO\n",
      "copying fastica.egg-info/dependency_links.txt -> build/bdist.macosx-10.7-x86_64/egg/EGG-INFO\n",
      "copying fastica.egg-info/top_level.txt -> build/bdist.macosx-10.7-x86_64/egg/EGG-INFO\n",
      "creating dist\n",
      "creating 'dist/fastica-2.0-py3.6.egg' and adding 'build/bdist.macosx-10.7-x86_64/egg' to it\n",
      "removing 'build/bdist.macosx-10.7-x86_64/egg' (and everything under it)\n",
      "Processing fastica-2.0-py3.6.egg\n",
      "Removing /Users/Ronnie/anaconda3/lib/python3.6/site-packages/fastica-2.0-py3.6.egg\n",
      "Copying fastica-2.0-py3.6.egg to /Users/Ronnie/anaconda3/lib/python3.6/site-packages\n",
      "fastica 2.0 is already the active version in easy-install.pth\n",
      "Installing fastica.py script to /Users/Ronnie/anaconda3/bin\n",
      "\n",
      "Installed /Users/Ronnie/anaconda3/lib/python3.6/site-packages/fastica-2.0-py3.6.egg\n",
      "Processing dependencies for fastica==2.0\n",
      "Finished processing dependencies for fastica==2.0\n"
     ]
    },
    {
     "name": "stderr",
     "output_type": "stream",
     "text": [
      "zip_safe flag not set; analyzing archive contents...\n"
     ]
    }
   ],
   "source": [
    "%%bash\n",
    "\n",
    "python setup.py install"
   ]
  },
  {
   "cell_type": "code",
   "execution_count": 9,
   "metadata": {},
   "outputs": [],
   "source": [
    "import fastica as fa"
   ]
  },
  {
   "cell_type": "code",
   "execution_count": 10,
   "metadata": {},
   "outputs": [
    {
     "data": {
      "text/plain": [
       "(array([[-2.84683639e-01, -6.69172976e-01, -7.16284428e-02,\n",
       "          7.00488531e-01],\n",
       "        [ 8.71094821e-01, -1.20467510e+00, -4.11500870e-01,\n",
       "         -8.38878463e-01],\n",
       "        [ 6.90300690e-01,  8.96720572e-01, -2.88145643e+00,\n",
       "          8.42532351e-01],\n",
       "        [ 6.10900920e+15,  9.16712260e+14,  2.81497641e+15,\n",
       "          3.64632154e+15]]),\n",
       " array([[ 0.34444672,  0.66102732,  0.63156386, -0.21336921],\n",
       "        [ 0.06680044,  0.61767485, -0.75444853, -0.21171417],\n",
       "        [-0.93612248,  0.29513062,  0.17821014, -0.06938132],\n",
       "        [-0.02385073, -0.30727606,  0.01325307, -0.95122916]]),\n",
       " array([[-1.01525596e+15, -1.00738090e+15, -3.30131038e+14,\n",
       "         -4.52615007e+15],\n",
       "        [-1.01525596e+15, -1.00738090e+15, -3.30131038e+14,\n",
       "         -4.52615007e+15],\n",
       "        [-1.01525596e+15, -1.00738090e+15, -3.30131038e+14,\n",
       "         -4.52615007e+15],\n",
       "        [-1.01525596e+15, -1.00738090e+15, -3.30131038e+14,\n",
       "         -4.52615007e+15]]))"
      ]
     },
     "execution_count": 10,
     "metadata": {},
     "output_type": "execute_result"
    }
   ],
   "source": [
    "A = np.random.random((4,4))\n",
    "fa.fastICA(A)"
   ]
  }
 ],
 "metadata": {
  "kernelspec": {
   "display_name": "Python 3",
   "language": "python",
   "name": "python3"
  },
  "language_info": {
   "codemirror_mode": {
    "name": "ipython",
    "version": 3
   },
   "file_extension": ".py",
   "mimetype": "text/x-python",
   "name": "python",
   "nbconvert_exporter": "python",
   "pygments_lexer": "ipython3",
   "version": "3.6.5"
  }
 },
 "nbformat": 4,
 "nbformat_minor": 2
}
